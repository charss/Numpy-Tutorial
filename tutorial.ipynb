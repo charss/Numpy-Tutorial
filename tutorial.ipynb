{
    "cells": [
        {
            "cell_type": "code",
            "execution_count": 122,
            "source": [
                "import numpy as np"
            ],
            "outputs": [],
            "metadata": {}
        },
        {
            "cell_type": "markdown",
            "source": [
                "##  **The Basics** ##"
            ],
            "metadata": {}
        },
        {
            "cell_type": "code",
            "execution_count": 123,
            "source": [
                "a = np.array([1, 2, 3], dtype='int32')\r\n",
                "print(a)"
            ],
            "outputs": [
                {
                    "output_type": "stream",
                    "name": "stdout",
                    "text": [
                        "[1 2 3]\n"
                    ]
                }
            ],
            "metadata": {}
        },
        {
            "cell_type": "code",
            "execution_count": 124,
            "source": [
                "b = np.array( [ [ 9.0, 8.0, 7.0 ] , [ 6.0, 5.0, 4.0 ] ])\r\n",
                "print(b)"
            ],
            "outputs": [
                {
                    "output_type": "stream",
                    "name": "stdout",
                    "text": [
                        "[[9. 8. 7.]\n",
                        " [6. 5. 4.]]\n"
                    ]
                }
            ],
            "metadata": {}
        },
        {
            "cell_type": "code",
            "execution_count": 125,
            "source": [
                "# Get Dimension\r\n",
                "a.ndim"
            ],
            "outputs": [
                {
                    "output_type": "execute_result",
                    "data": {
                        "text/plain": [
                            "1"
                        ]
                    },
                    "metadata": {},
                    "execution_count": 125
                }
            ],
            "metadata": {}
        },
        {
            "cell_type": "code",
            "execution_count": 126,
            "source": [
                "# Get Shape\r\n",
                "b.shape"
            ],
            "outputs": [
                {
                    "output_type": "execute_result",
                    "data": {
                        "text/plain": [
                            "(2, 3)"
                        ]
                    },
                    "metadata": {},
                    "execution_count": 126
                }
            ],
            "metadata": {}
        },
        {
            "cell_type": "code",
            "execution_count": 127,
            "source": [
                "# Get Type\r\n",
                "a.dtype"
            ],
            "outputs": [
                {
                    "output_type": "execute_result",
                    "data": {
                        "text/plain": [
                            "dtype('int32')"
                        ]
                    },
                    "metadata": {},
                    "execution_count": 127
                }
            ],
            "metadata": {}
        },
        {
            "cell_type": "code",
            "execution_count": 128,
            "source": [
                "# Get Size\r\n",
                "a.itemsize"
            ],
            "outputs": [
                {
                    "output_type": "execute_result",
                    "data": {
                        "text/plain": [
                            "4"
                        ]
                    },
                    "metadata": {},
                    "execution_count": 128
                }
            ],
            "metadata": {}
        },
        {
            "cell_type": "code",
            "execution_count": 129,
            "source": [
                "# Get total size \r\n",
                "b.nbytes"
            ],
            "outputs": [
                {
                    "output_type": "execute_result",
                    "data": {
                        "text/plain": [
                            "48"
                        ]
                    },
                    "metadata": {},
                    "execution_count": 129
                }
            ],
            "metadata": {}
        },
        {
            "cell_type": "markdown",
            "source": [
                "##  **Accessing/Changing specific elements, rows, columns, etc.** ##"
            ],
            "metadata": {}
        },
        {
            "cell_type": "code",
            "execution_count": 130,
            "source": [
                "a = np.array([ [1, 2, 3, 4, 5, 6, 7], [8, 9, 10, 11, 12, 13, 14] ])\r\n",
                "print(a)"
            ],
            "outputs": [
                {
                    "output_type": "stream",
                    "name": "stdout",
                    "text": [
                        "[[ 1  2  3  4  5  6  7]\n",
                        " [ 8  9 10 11 12 13 14]]\n"
                    ]
                }
            ],
            "metadata": {}
        },
        {
            "cell_type": "code",
            "execution_count": 131,
            "source": [
                "# Get a specific element [r, c]\r\n",
                "a[1, -2]"
            ],
            "outputs": [
                {
                    "output_type": "execute_result",
                    "data": {
                        "text/plain": [
                            "13"
                        ]
                    },
                    "metadata": {},
                    "execution_count": 131
                }
            ],
            "metadata": {}
        },
        {
            "cell_type": "code",
            "execution_count": 132,
            "source": [
                "# Get a specific row\r\n",
                "a[0, :]"
            ],
            "outputs": [
                {
                    "output_type": "execute_result",
                    "data": {
                        "text/plain": [
                            "array([1, 2, 3, 4, 5, 6, 7])"
                        ]
                    },
                    "metadata": {},
                    "execution_count": 132
                }
            ],
            "metadata": {}
        },
        {
            "cell_type": "code",
            "execution_count": 133,
            "source": [
                "# Get a specific column\r\n",
                "a[:, 2]"
            ],
            "outputs": [
                {
                    "output_type": "execute_result",
                    "data": {
                        "text/plain": [
                            "array([ 3, 10])"
                        ]
                    },
                    "metadata": {},
                    "execution_count": 133
                }
            ],
            "metadata": {}
        },
        {
            "cell_type": "code",
            "execution_count": 134,
            "source": [
                "# Getting a litte more fancy [startIndex: endIndex: stepSize]\r\n",
                "a[0, 1:6:2] # or a[0, 1:-1:2]\r\n"
            ],
            "outputs": [
                {
                    "output_type": "execute_result",
                    "data": {
                        "text/plain": [
                            "array([2, 4, 6])"
                        ]
                    },
                    "metadata": {},
                    "execution_count": 134
                }
            ],
            "metadata": {}
        },
        {
            "cell_type": "code",
            "execution_count": 135,
            "source": [
                "a[1, 5] = 20\r\n",
                "\r\n",
                "a[:, 2] = [1, 2]\r\n",
                "print(a)"
            ],
            "outputs": [
                {
                    "output_type": "stream",
                    "name": "stdout",
                    "text": [
                        "[[ 1  2  1  4  5  6  7]\n",
                        " [ 8  9  2 11 12 20 14]]\n"
                    ]
                }
            ],
            "metadata": {}
        },
        {
            "cell_type": "markdown",
            "source": [
                "3D Example"
            ],
            "metadata": {}
        },
        {
            "cell_type": "code",
            "execution_count": 136,
            "source": [
                "b = np.array([ [ [1,2], [3,4] ], [ [5, 6], [7, 8] ] ])\r\n",
                "print(b)"
            ],
            "outputs": [
                {
                    "output_type": "stream",
                    "name": "stdout",
                    "text": [
                        "[[[1 2]\n",
                        "  [3 4]]\n",
                        "\n",
                        " [[5 6]\n",
                        "  [7 8]]]\n"
                    ]
                }
            ],
            "metadata": {}
        },
        {
            "cell_type": "code",
            "execution_count": 137,
            "source": [
                "# Get specific element (work ouside in)\r\n",
                "b[0, 1, 1]"
            ],
            "outputs": [
                {
                    "output_type": "execute_result",
                    "data": {
                        "text/plain": [
                            "4"
                        ]
                    },
                    "metadata": {},
                    "execution_count": 137
                }
            ],
            "metadata": {}
        },
        {
            "cell_type": "code",
            "execution_count": 138,
            "source": [
                "# Replace\r\n",
                "b[:, 1, :] = [ [9, 9], [8, 8] ]\r\n",
                "print(b)"
            ],
            "outputs": [
                {
                    "output_type": "stream",
                    "name": "stdout",
                    "text": [
                        "[[[1 2]\n",
                        "  [9 9]]\n",
                        "\n",
                        " [[5 6]\n",
                        "  [8 8]]]\n"
                    ]
                }
            ],
            "metadata": {}
        },
        {
            "cell_type": "markdown",
            "source": [
                "##  **Initializing Different Types of Arrays** ##"
            ],
            "metadata": {}
        },
        {
            "cell_type": "code",
            "execution_count": 139,
            "source": [
                "# All 0s matrix\r\n",
                "np.zeros(5,)\r\n",
                "np.zeros((2, 2))\r\n",
                "np.zeros((2, 2, 3, 2))"
            ],
            "outputs": [
                {
                    "output_type": "execute_result",
                    "data": {
                        "text/plain": [
                            "array([[[[0., 0.],\n",
                            "         [0., 0.],\n",
                            "         [0., 0.]],\n",
                            "\n",
                            "        [[0., 0.],\n",
                            "         [0., 0.],\n",
                            "         [0., 0.]]],\n",
                            "\n",
                            "\n",
                            "       [[[0., 0.],\n",
                            "         [0., 0.],\n",
                            "         [0., 0.]],\n",
                            "\n",
                            "        [[0., 0.],\n",
                            "         [0., 0.],\n",
                            "         [0., 0.]]]])"
                        ]
                    },
                    "metadata": {},
                    "execution_count": 139
                }
            ],
            "metadata": {}
        },
        {
            "cell_type": "code",
            "execution_count": 140,
            "source": [
                "# All 1s matrix\r\n",
                "np.ones((4, 2, 2))\r\n",
                "np.ones((4, 2, 2), dtype='int32')"
            ],
            "outputs": [
                {
                    "output_type": "execute_result",
                    "data": {
                        "text/plain": [
                            "array([[[1, 1],\n",
                            "        [1, 1]],\n",
                            "\n",
                            "       [[1, 1],\n",
                            "        [1, 1]],\n",
                            "\n",
                            "       [[1, 1],\n",
                            "        [1, 1]],\n",
                            "\n",
                            "       [[1, 1],\n",
                            "        [1, 1]]])"
                        ]
                    },
                    "metadata": {},
                    "execution_count": 140
                }
            ],
            "metadata": {}
        },
        {
            "cell_type": "code",
            "execution_count": 141,
            "source": [
                "# Any other number\r\n",
                "np.full((2, 2), 99, dtype='float32')\r\n",
                "np.full((2, 2), 99)"
            ],
            "outputs": [
                {
                    "output_type": "execute_result",
                    "data": {
                        "text/plain": [
                            "array([[99, 99],\n",
                            "       [99, 99]])"
                        ]
                    },
                    "metadata": {},
                    "execution_count": 141
                }
            ],
            "metadata": {}
        },
        {
            "cell_type": "code",
            "execution_count": 142,
            "source": [
                "# Any other number (full_like)\r\n",
                "np.full_like(a, 4)"
            ],
            "outputs": [
                {
                    "output_type": "execute_result",
                    "data": {
                        "text/plain": [
                            "array([[4, 4, 4, 4, 4, 4, 4],\n",
                            "       [4, 4, 4, 4, 4, 4, 4]])"
                        ]
                    },
                    "metadata": {},
                    "execution_count": 142
                }
            ],
            "metadata": {}
        },
        {
            "cell_type": "code",
            "execution_count": 143,
            "source": [
                "# Random decimal numbers\r\n",
                "np.random.random_sample(a.shape)\r\n",
                "np.random.rand(4, 2)"
            ],
            "outputs": [
                {
                    "output_type": "execute_result",
                    "data": {
                        "text/plain": [
                            "array([[0.8969935 , 0.14607784],\n",
                            "       [0.68949698, 0.71953261],\n",
                            "       [0.12969547, 0.7514879 ],\n",
                            "       [0.96583909, 0.60233147]])"
                        ]
                    },
                    "metadata": {},
                    "execution_count": 143
                }
            ],
            "metadata": {}
        },
        {
            "cell_type": "code",
            "execution_count": 144,
            "source": [
                "# Random Integer values\r\n",
                "np.random.randint(-4, 7, size=(3, 3))\r\n",
                " "
            ],
            "outputs": [
                {
                    "output_type": "execute_result",
                    "data": {
                        "text/plain": [
                            "array([[ 6,  4,  0],\n",
                            "       [ 6,  1, -4],\n",
                            "       [ 3,  1,  2]])"
                        ]
                    },
                    "metadata": {},
                    "execution_count": 144
                }
            ],
            "metadata": {}
        },
        {
            "cell_type": "code",
            "execution_count": 145,
            "source": [
                "np.identity(5)"
            ],
            "outputs": [
                {
                    "output_type": "execute_result",
                    "data": {
                        "text/plain": [
                            "array([[1., 0., 0., 0., 0.],\n",
                            "       [0., 1., 0., 0., 0.],\n",
                            "       [0., 0., 1., 0., 0.],\n",
                            "       [0., 0., 0., 1., 0.],\n",
                            "       [0., 0., 0., 0., 1.]])"
                        ]
                    },
                    "metadata": {},
                    "execution_count": 145
                }
            ],
            "metadata": {}
        },
        {
            "cell_type": "code",
            "execution_count": 146,
            "source": [
                "arr = np.array( [[1, 2, 3]])\r\n",
                "r1 = np.repeat(arr, 3, axis=0)\r\n",
                "print(r1)"
            ],
            "outputs": [
                {
                    "output_type": "stream",
                    "name": "stdout",
                    "text": [
                        "[[1 2 3]\n",
                        " [1 2 3]\n",
                        " [1 2 3]]\n"
                    ]
                }
            ],
            "metadata": {}
        },
        {
            "cell_type": "code",
            "execution_count": 147,
            "source": [
                "output = np.ones((5, 5))\r\n",
                "print(output)\r\n",
                "\r\n",
                "z = np.zeros((3, 3))\r\n",
                "print(z)\r\n",
                "\r\n",
                "z[1, 1] = 9\r\n",
                "print(z)\r\n",
                "\r\n",
                "output[1:4, 1:4] = z\r\n",
                "print(output)"
            ],
            "outputs": [
                {
                    "output_type": "stream",
                    "name": "stdout",
                    "text": [
                        "[[1. 1. 1. 1. 1.]\n",
                        " [1. 1. 1. 1. 1.]\n",
                        " [1. 1. 1. 1. 1.]\n",
                        " [1. 1. 1. 1. 1.]\n",
                        " [1. 1. 1. 1. 1.]]\n",
                        "[[0. 0. 0.]\n",
                        " [0. 0. 0.]\n",
                        " [0. 0. 0.]]\n",
                        "[[0. 0. 0.]\n",
                        " [0. 9. 0.]\n",
                        " [0. 0. 0.]]\n",
                        "[[1. 1. 1. 1. 1.]\n",
                        " [1. 0. 0. 0. 1.]\n",
                        " [1. 0. 9. 0. 1.]\n",
                        " [1. 0. 0. 0. 1.]\n",
                        " [1. 1. 1. 1. 1.]]\n"
                    ]
                }
            ],
            "metadata": {}
        },
        {
            "cell_type": "markdown",
            "source": [
                "#### Be careful when copying arrays!!!"
            ],
            "metadata": {}
        },
        {
            "cell_type": "code",
            "execution_count": 151,
            "source": [
                "a = np.array([1, 2, 3])\r\n",
                "b = a.copy()\r\n",
                "b[0] = 100\r\n",
                "print(a)\r\n",
                "print(b)\r\n"
            ],
            "outputs": [
                {
                    "output_type": "stream",
                    "name": "stdout",
                    "text": [
                        "[1 2 3]\n",
                        "[100   2   3]\n"
                    ]
                }
            ],
            "metadata": {}
        },
        {
            "cell_type": "markdown",
            "source": [
                "##  **Mathematics** ##"
            ],
            "metadata": {}
        },
        {
            "cell_type": "code",
            "execution_count": 160,
            "source": [
                "a = np.array( [1, 2, 3, 4] )\r\n",
                "print(a)"
            ],
            "outputs": [
                {
                    "output_type": "stream",
                    "name": "stdout",
                    "text": [
                        "[1 2 3 4]\n"
                    ]
                }
            ],
            "metadata": {}
        },
        {
            "cell_type": "code",
            "execution_count": 153,
            "source": [
                "a + 2"
            ],
            "outputs": [
                {
                    "output_type": "execute_result",
                    "data": {
                        "text/plain": [
                            "array([3, 4, 5, 6, 7])"
                        ]
                    },
                    "metadata": {},
                    "execution_count": 153
                }
            ],
            "metadata": {}
        },
        {
            "cell_type": "code",
            "execution_count": 154,
            "source": [
                "a - 2 "
            ],
            "outputs": [
                {
                    "output_type": "execute_result",
                    "data": {
                        "text/plain": [
                            "array([-1,  0,  1,  2,  3])"
                        ]
                    },
                    "metadata": {},
                    "execution_count": 154
                }
            ],
            "metadata": {}
        },
        {
            "cell_type": "code",
            "execution_count": 155,
            "source": [
                "a * 2"
            ],
            "outputs": [
                {
                    "output_type": "execute_result",
                    "data": {
                        "text/plain": [
                            "array([ 2,  4,  6,  8, 10])"
                        ]
                    },
                    "metadata": {},
                    "execution_count": 155
                }
            ],
            "metadata": {}
        },
        {
            "cell_type": "code",
            "execution_count": 156,
            "source": [
                "a / 2"
            ],
            "outputs": [
                {
                    "output_type": "execute_result",
                    "data": {
                        "text/plain": [
                            "array([0.5, 1. , 1.5, 2. , 2.5])"
                        ]
                    },
                    "metadata": {},
                    "execution_count": 156
                }
            ],
            "metadata": {}
        },
        {
            "cell_type": "code",
            "execution_count": 161,
            "source": [
                "b = np.array( [1, 0, 1, 0] )\r\n",
                "a + b"
            ],
            "outputs": [
                {
                    "output_type": "execute_result",
                    "data": {
                        "text/plain": [
                            "array([2, 2, 4, 4])"
                        ]
                    },
                    "metadata": {},
                    "execution_count": 161
                }
            ],
            "metadata": {}
        },
        {
            "cell_type": "code",
            "execution_count": 162,
            "source": [
                "a ** 2"
            ],
            "outputs": [
                {
                    "output_type": "execute_result",
                    "data": {
                        "text/plain": [
                            "array([ 1,  4,  9, 16], dtype=int32)"
                        ]
                    },
                    "metadata": {},
                    "execution_count": 162
                }
            ],
            "metadata": {}
        },
        {
            "cell_type": "code",
            "execution_count": 163,
            "source": [
                "# Take the sin\r\n",
                "np.sin(a)"
            ],
            "outputs": [
                {
                    "output_type": "execute_result",
                    "data": {
                        "text/plain": [
                            "array([ 0.84147098,  0.90929743,  0.14112001, -0.7568025 ])"
                        ]
                    },
                    "metadata": {},
                    "execution_count": 163
                }
            ],
            "metadata": {}
        },
        {
            "cell_type": "markdown",
            "source": [
                "#### Linear Algebra"
            ],
            "metadata": {}
        },
        {
            "cell_type": "code",
            "execution_count": 168,
            "source": [
                "a = np.ones((2, 3))\r\n",
                "print(a)\r\n",
                "\r\n",
                "b = np.full((3, 2), 2)\r\n",
                "print(b)\r\n",
                "\r\n",
                "np.matmul(a, b)"
            ],
            "outputs": [
                {
                    "output_type": "stream",
                    "name": "stdout",
                    "text": [
                        "[[1. 1. 1.]\n",
                        " [1. 1. 1.]]\n",
                        "[[2 2]\n",
                        " [2 2]\n",
                        " [2 2]]\n"
                    ]
                },
                {
                    "output_type": "execute_result",
                    "data": {
                        "text/plain": [
                            "array([[6., 6.],\n",
                            "       [6., 6.]])"
                        ]
                    },
                    "metadata": {},
                    "execution_count": 168
                }
            ],
            "metadata": {}
        },
        {
            "cell_type": "code",
            "execution_count": 172,
            "source": [
                "# Find the determinant\r\n",
                "c = np.identity(3)\r\n",
                "np.linalg.det(c)"
            ],
            "outputs": [
                {
                    "output_type": "execute_result",
                    "data": {
                        "text/plain": [
                            "1.0"
                        ]
                    },
                    "metadata": {},
                    "execution_count": 172
                }
            ],
            "metadata": {}
        },
        {
            "cell_type": "markdown",
            "source": [
                "#### Statistics"
            ],
            "metadata": {}
        },
        {
            "cell_type": "code",
            "execution_count": 174,
            "source": [
                "stats = np.array([ [1, 2, 3], [4, 5, 6] ])\r\n",
                "stats"
            ],
            "outputs": [
                {
                    "output_type": "execute_result",
                    "data": {
                        "text/plain": [
                            "array([[1, 2, 3],\n",
                            "       [4, 5, 6]])"
                        ]
                    },
                    "metadata": {},
                    "execution_count": 174
                }
            ],
            "metadata": {}
        },
        {
            "cell_type": "code",
            "execution_count": 186,
            "source": [
                "np.min(stats, axis=0)\r\n",
                "np.min(stats, axis=1)\r\n",
                "np.min(stats)"
            ],
            "outputs": [
                {
                    "output_type": "execute_result",
                    "data": {
                        "text/plain": [
                            "1"
                        ]
                    },
                    "metadata": {},
                    "execution_count": 186
                }
            ],
            "metadata": {}
        },
        {
            "cell_type": "code",
            "execution_count": 190,
            "source": [
                "np.max(stats, axis=0)\r\n",
                "np.max(stats, axis=1)\r\n",
                "np.max(stats)"
            ],
            "outputs": [
                {
                    "output_type": "execute_result",
                    "data": {
                        "text/plain": [
                            "6"
                        ]
                    },
                    "metadata": {},
                    "execution_count": 190
                }
            ],
            "metadata": {}
        },
        {
            "cell_type": "code",
            "execution_count": 196,
            "source": [
                "np.sum(stats, axis=1)\r\n",
                "np.sum(stats)"
            ],
            "outputs": [
                {
                    "output_type": "execute_result",
                    "data": {
                        "text/plain": [
                            "21"
                        ]
                    },
                    "metadata": {},
                    "execution_count": 196
                }
            ],
            "metadata": {}
        },
        {
            "cell_type": "markdown",
            "source": [
                "##  **Reorganizing Arrays** ##"
            ],
            "metadata": {}
        },
        {
            "cell_type": "code",
            "execution_count": 201,
            "source": [
                "before = np.array([ [1, 2, 3, 4], [5, 6, 7, 8] ])\r\n",
                "print(before)\r\n",
                "\r\n",
                "after = before.reshape((2, 2, 2))\r\n",
                "print(after)"
            ],
            "outputs": [
                {
                    "output_type": "stream",
                    "name": "stdout",
                    "text": [
                        "[[1 2 3 4]\n",
                        " [5 6 7 8]]\n",
                        "[[[1 2]\n",
                        "  [3 4]]\n",
                        "\n",
                        " [[5 6]\n",
                        "  [7 8]]]\n"
                    ]
                }
            ],
            "metadata": {}
        },
        {
            "cell_type": "code",
            "execution_count": 202,
            "source": [
                "# Vertically stacking vectors\r\n",
                "v1 = np.array( [1, 2, 3, 4])\r\n",
                "v2 = np.array( [5, 6, 7, 8])\r\n",
                "\r\n",
                "np.vstack([v1, v2, v1, v2])"
            ],
            "outputs": [
                {
                    "output_type": "execute_result",
                    "data": {
                        "text/plain": [
                            "array([[1, 2, 3, 4],\n",
                            "       [5, 6, 7, 8],\n",
                            "       [1, 2, 3, 4],\n",
                            "       [5, 6, 7, 8]])"
                        ]
                    },
                    "metadata": {},
                    "execution_count": 202
                }
            ],
            "metadata": {}
        },
        {
            "cell_type": "code",
            "execution_count": 204,
            "source": [
                "# Horizontal Stack\r\n",
                "h1 = np.ones((2, 4))\r\n",
                "h2 = np.zeros((2, 2))\r\n",
                "\r\n",
                "print(h1)\r\n",
                "print(h2)\r\n",
                "\r\n",
                "np.hstack((h1, h2))"
            ],
            "outputs": [
                {
                    "output_type": "stream",
                    "name": "stdout",
                    "text": [
                        "[[1. 1. 1. 1.]\n",
                        " [1. 1. 1. 1.]]\n",
                        "[[0. 0.]\n",
                        " [0. 0.]]\n"
                    ]
                },
                {
                    "output_type": "execute_result",
                    "data": {
                        "text/plain": [
                            "array([[1., 1., 1., 1., 0., 0.],\n",
                            "       [1., 1., 1., 1., 0., 0.]])"
                        ]
                    },
                    "metadata": {},
                    "execution_count": 204
                }
            ],
            "metadata": {}
        },
        {
            "cell_type": "markdown",
            "source": [
                "##  **Miscellaneous** ##"
            ],
            "metadata": {}
        },
        {
            "cell_type": "markdown",
            "source": [
                "#### Load Data from File"
            ],
            "metadata": {}
        },
        {
            "cell_type": "code",
            "execution_count": 209,
            "source": [
                "filedata = np.genfromtxt('data.txt', delimiter=',')\r\n",
                "filedata = filedata.astype('int32')\r\n",
                "print(filedata)"
            ],
            "outputs": [
                {
                    "output_type": "stream",
                    "name": "stdout",
                    "text": [
                        "[[  1  13  21  11 196  75   4   3  34   6   7   8   0   1   2   3   4   5]\n",
                        " [  3  42  12  33 766  75   4  55   6   4   3   4   5   6   7   0  11  12]\n",
                        " [  1  22  33  11 999  11   2   1  78   0   1   2   9   8   7   1  76  88]]\n"
                    ]
                }
            ],
            "metadata": {}
        },
        {
            "cell_type": "markdown",
            "source": [
                "#### Boolean Masking and Advance Indexing"
            ],
            "metadata": {}
        },
        {
            "cell_type": "code",
            "execution_count": 212,
            "source": [
                "filedata > 50"
            ],
            "outputs": [
                {
                    "output_type": "execute_result",
                    "data": {
                        "text/plain": [
                            "array([[False, False, False, False,  True,  True, False, False, False,\n",
                            "        False, False, False, False, False, False, False, False, False],\n",
                            "       [False, False, False, False,  True,  True, False,  True, False,\n",
                            "        False, False, False, False, False, False, False, False, False],\n",
                            "       [False, False, False, False,  True, False, False, False,  True,\n",
                            "        False, False, False, False, False, False, False,  True,  True]])"
                        ]
                    },
                    "metadata": {},
                    "execution_count": 212
                }
            ],
            "metadata": {}
        },
        {
            "cell_type": "code",
            "execution_count": 213,
            "source": [
                "\r\n",
                "filedata[filedata > 50]"
            ],
            "outputs": [
                {
                    "output_type": "execute_result",
                    "data": {
                        "text/plain": [
                            "array([196,  75, 766,  75,  55, 999,  78,  76,  88])"
                        ]
                    },
                    "metadata": {},
                    "execution_count": 213
                }
            ],
            "metadata": {}
        },
        {
            "cell_type": "code",
            "execution_count": 221,
            "source": [
                "np.any(filedata > 50, axis=0)\r\n",
                "np.all(filedata > 50, axis=0)"
            ],
            "outputs": [
                {
                    "output_type": "execute_result",
                    "data": {
                        "text/plain": [
                            "array([False, False, False, False,  True, False, False, False, False,\n",
                            "       False, False, False, False, False, False, False, False, False])"
                        ]
                    },
                    "metadata": {},
                    "execution_count": 221
                }
            ],
            "metadata": {}
        },
        {
            "cell_type": "code",
            "execution_count": 225,
            "source": [
                "((filedata > 50) & (filedata < 100))"
            ],
            "outputs": [
                {
                    "output_type": "execute_result",
                    "data": {
                        "text/plain": [
                            "array([[ True,  True,  True,  True, False, False,  True,  True,  True,\n",
                            "         True,  True,  True,  True,  True,  True,  True,  True,  True],\n",
                            "       [ True,  True,  True,  True, False, False,  True, False,  True,\n",
                            "         True,  True,  True,  True,  True,  True,  True,  True,  True],\n",
                            "       [ True,  True,  True,  True, False,  True,  True,  True, False,\n",
                            "         True,  True,  True,  True,  True,  True,  True, False, False]])"
                        ]
                    },
                    "metadata": {},
                    "execution_count": 225
                }
            ],
            "metadata": {}
        }
    ],
    "metadata": {
        "orig_nbformat": 4,
        "language_info": {
            "name": "python",
            "version": "3.8.8",
            "mimetype": "text/x-python",
            "codemirror_mode": {
                "name": "ipython",
                "version": 3
            },
            "pygments_lexer": "ipython3",
            "nbconvert_exporter": "python",
            "file_extension": ".py"
        },
        "kernelspec": {
            "name": "python3",
            "display_name": "Python 3.8.8 64-bit"
        },
        "interpreter": {
            "hash": "df32ccc5ca0a834e46655e033e923466181170f9f055e035850f144ef7ac8ef0"
        }
    },
    "nbformat": 4,
    "nbformat_minor": 2
}